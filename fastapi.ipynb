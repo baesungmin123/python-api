{
  "nbformat": 4,
  "nbformat_minor": 0,
  "metadata": {
    "colab": {
      "provenance": []
    },
    "kernelspec": {
      "name": "python3",
      "display_name": "Python 3"
    },
    "language_info": {
      "name": "python"
    }
  },
  "cells": [
    {
      "cell_type": "code",
      "source": [
        "import csv\n",
        "from bs4 import BeautifulSoup\n"
      ],
      "metadata": {
        "id": "FlZj2WXjJslz"
      },
      "execution_count": null,
      "outputs": []
    },
    {
      "cell_type": "code",
      "source": [
        "from google.colab import drive\n",
        "drive.mount('/content/gdrive')"
      ],
      "metadata": {
        "colab": {
          "base_uri": "https://localhost:8080/"
        },
        "id": "o08YsUccKZJ9",
        "outputId": "d0416506-557a-4e88-bd66-cde8d1bb14b2"
      },
      "execution_count": null,
      "outputs": [
        {
          "output_type": "stream",
          "name": "stdout",
          "text": [
            "Mounted at /content/gdrive\n"
          ]
        }
      ]
    },
    {
      "cell_type": "code",
      "source": [
        "f = open(\"/content/gdrive/MyDrive/python/Busan_age.csv\",mode = 'rt',encoding='CP949')\n",
        "reader = csv.reader(f,delimiter=\",\")\n",
        "\n",
        "age={}\n",
        "result ={}\n",
        "for row in reader:\n",
        "  gu = row[0]\n",
        "  age[gu] = float(row[3])\n",
        "  result.appand(age)\n",
        "f.close()\n",
        "age"
      ],
      "metadata": {
        "id": "K4Mhcr-sM1O0"
      },
      "execution_count": null,
      "outputs": []
    },
    {
      "cell_type": "code",
      "source": [
        "from bs4 import BeautifulSoup\n",
        "\n",
        "with open('/content/drive/MyDrive/python/Busan_districts.svg', 'r', encoding='utf-8') as file:\n",
        "    svg = file.read()\n",
        "\n",
        "soup = BeautifulSoup(svg, 'xml')\n",
        "\n",
        "paths = soup.findAll('path')\n",
        "print(\"Found paths:\", len(paths))\n",
        "\n",
        "colors = [\"#F1EEF6\", \"#D4B9DA\", \"#C994C7\", \"#DF65B0\", \"#DD1C77\", \"#980043\"]\n"
      ],
      "metadata": {
        "colab": {
          "base_uri": "https://localhost:8080/"
        },
        "id": "P-uOhZYZOSYZ",
        "outputId": "952301f2-0335-4665-a96b-2ba3e215e30f"
      },
      "execution_count": 6,
      "outputs": [
        {
          "output_type": "stream",
          "name": "stdout",
          "text": [
            "Found paths: 16\n"
          ]
        }
      ]
    },
    {
      "cell_type": "code",
      "source": [
        "from bs4 import BeautifulSoup\n",
        "svg = '''\n",
        "<svg>\n",
        "  <path id=\"path1\" />\n",
        "  <path id=\"path2\" />\n",
        "  <path id=\"path3\" />\n",
        "</svg>\n",
        "'''\n",
        "soup = BeautifulSoup(svg, 'xml')\n",
        "paths = soup.find_all('path')\n",
        "colors = [\"#F1EEF6\", \"#D4B9DA\", \"#C994C7\", \"#DF65B0\", \"#DD1C77\", \"#980043\"]\n",
        "age = {\n",
        "    \"path1\": 60,\n",
        "    \"path2\": 55,\n",
        "    \"path3\": 52,\n",
        "}\n",
        "for p in paths:\n",
        "    if 'id' in p.attrs and p['id'] in age:\n",
        "        count = age[p['id']]\n",
        "        if count >= 60:\n",
        "            index = 5\n",
        "        elif count >= 58:\n",
        "            index = 4\n",
        "        elif count >= 56:\n",
        "            index = 3\n",
        "        elif count >= 54:\n",
        "            index = 2\n",
        "        elif count >= 52:\n",
        "            index = 1\n",
        "        else:\n",
        "            index = 0\n",
        "        color = colors[index]\n",
        "        p['style'] = f'fill:{color}'"
      ],
      "metadata": {
        "id": "ZENa6ql4Q3Os"
      },
      "execution_count": 9,
      "outputs": []
    },
    {
      "cell_type": "code",
      "source": [
        "import sys\n",
        "sys.stdout = open('')"
      ],
      "metadata": {
        "id": "uTl5kse9Q5hx"
      },
      "execution_count": null,
      "outputs": []
    }
  ]
}